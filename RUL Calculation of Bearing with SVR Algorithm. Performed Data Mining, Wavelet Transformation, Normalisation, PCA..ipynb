{
 "cells": [
  {
   "cell_type": "code",
   "execution_count": 1,
   "metadata": {},
   "outputs": [],
   "source": [
    "import pandas as pd\n",
    "import numpy as np\n",
    "import matplotlib.pyplot as plt\n",
    "import pywt\n",
    "from glob import glob\n",
    "import statistics\n",
    "from sklearn import svm"
   ]
  },
  {
   "cell_type": "code",
   "execution_count": 2,
   "metadata": {},
   "outputs": [],
   "source": [
    "# Reading the data\n",
    "# Calculating the final acceleration\n",
    "# Transforming the data\n",
    "\n",
    "files1_1 = sorted(glob('C:/Users/ronit/Desktop/FEMTODataSet/Learning_set/Bearing1_1/acc_*.csv')) \n",
    "all_files = [] \n",
    "for f in files1_1:    \n",
    "    df = pd.read_csv(f, header = None, delimiter = ',')     \n",
    "    df.columns =['hour', 'minute', 'second', 'μ-second', 'Horizontal Acceleration', 'Vertical Acceleration']\n",
    "    import numpy as n     \n",
    "    ax= n.power(df['Horizontal Acceleration'],2)     \n",
    "    ay= n.power(df['Vertical Acceleration'],2)     \n",
    "    df['acc']= n.sqrt(ax+ay)\n",
    "    df['avg_acc'] = n.mean(df ['acc'])\n",
    "    del df['Horizontal Acceleration']\n",
    "    del df['Vertical Acceleration']\n",
    "    del df['acc']\n",
    "    del df['μ-second']\n",
    "\n",
    "    df = df.drop_duplicates(\"avg_acc\", keep='first') #Beseitigen der 2559 Duplikate je Datensatz                    \n",
    "    all_files.append(df)     \n",
    "df_1 = pd.concat(all_files, ignore_index=True) "
   ]
  },
  {
   "cell_type": "code",
   "execution_count": 3,
   "metadata": {},
   "outputs": [
    {
     "data": {
      "text/html": [
       "<div>\n",
       "<style scoped>\n",
       "    .dataframe tbody tr th:only-of-type {\n",
       "        vertical-align: middle;\n",
       "    }\n",
       "\n",
       "    .dataframe tbody tr th {\n",
       "        vertical-align: top;\n",
       "    }\n",
       "\n",
       "    .dataframe thead th {\n",
       "        text-align: right;\n",
       "    }\n",
       "</style>\n",
       "<table border=\"1\" class=\"dataframe\">\n",
       "  <thead>\n",
       "    <tr style=\"text-align: right;\">\n",
       "      <th></th>\n",
       "      <th>hour</th>\n",
       "      <th>minute</th>\n",
       "      <th>second</th>\n",
       "      <th>avg_acc</th>\n",
       "    </tr>\n",
       "  </thead>\n",
       "  <tbody>\n",
       "    <tr>\n",
       "      <th>0</th>\n",
       "      <td>9</td>\n",
       "      <td>39</td>\n",
       "      <td>39</td>\n",
       "      <td>0.624844</td>\n",
       "    </tr>\n",
       "    <tr>\n",
       "      <th>1</th>\n",
       "      <td>9</td>\n",
       "      <td>39</td>\n",
       "      <td>49</td>\n",
       "      <td>0.597351</td>\n",
       "    </tr>\n",
       "    <tr>\n",
       "      <th>2</th>\n",
       "      <td>9</td>\n",
       "      <td>39</td>\n",
       "      <td>59</td>\n",
       "      <td>0.596334</td>\n",
       "    </tr>\n",
       "    <tr>\n",
       "      <th>3</th>\n",
       "      <td>9</td>\n",
       "      <td>40</td>\n",
       "      <td>9</td>\n",
       "      <td>0.622017</td>\n",
       "    </tr>\n",
       "    <tr>\n",
       "      <th>4</th>\n",
       "      <td>9</td>\n",
       "      <td>40</td>\n",
       "      <td>19</td>\n",
       "      <td>0.621827</td>\n",
       "    </tr>\n",
       "    <tr>\n",
       "      <th>...</th>\n",
       "      <td>...</td>\n",
       "      <td>...</td>\n",
       "      <td>...</td>\n",
       "      <td>...</td>\n",
       "    </tr>\n",
       "    <tr>\n",
       "      <th>2798</th>\n",
       "      <td>17</td>\n",
       "      <td>25</td>\n",
       "      <td>59</td>\n",
       "      <td>5.609605</td>\n",
       "    </tr>\n",
       "    <tr>\n",
       "      <th>2799</th>\n",
       "      <td>17</td>\n",
       "      <td>26</td>\n",
       "      <td>9</td>\n",
       "      <td>4.666145</td>\n",
       "    </tr>\n",
       "    <tr>\n",
       "      <th>2800</th>\n",
       "      <td>17</td>\n",
       "      <td>26</td>\n",
       "      <td>19</td>\n",
       "      <td>4.964347</td>\n",
       "    </tr>\n",
       "    <tr>\n",
       "      <th>2801</th>\n",
       "      <td>17</td>\n",
       "      <td>26</td>\n",
       "      <td>29</td>\n",
       "      <td>5.303595</td>\n",
       "    </tr>\n",
       "    <tr>\n",
       "      <th>2802</th>\n",
       "      <td>17</td>\n",
       "      <td>26</td>\n",
       "      <td>39</td>\n",
       "      <td>5.601762</td>\n",
       "    </tr>\n",
       "  </tbody>\n",
       "</table>\n",
       "<p>2803 rows × 4 columns</p>\n",
       "</div>"
      ],
      "text/plain": [
       "      hour  minute  second   avg_acc\n",
       "0        9      39      39  0.624844\n",
       "1        9      39      49  0.597351\n",
       "2        9      39      59  0.596334\n",
       "3        9      40       9  0.622017\n",
       "4        9      40      19  0.621827\n",
       "...    ...     ...     ...       ...\n",
       "2798    17      25      59  5.609605\n",
       "2799    17      26       9  4.666145\n",
       "2800    17      26      19  4.964347\n",
       "2801    17      26      29  5.303595\n",
       "2802    17      26      39  5.601762\n",
       "\n",
       "[2803 rows x 4 columns]"
      ]
     },
     "execution_count": 3,
     "metadata": {},
     "output_type": "execute_result"
    }
   ],
   "source": [
    "# Creating a table to show final acceleration at each time\n",
    "\n",
    "df_1"
   ]
  },
  {
   "cell_type": "code",
   "execution_count": 4,
   "metadata": {},
   "outputs": [
    {
     "data": {
      "text/plain": [
       "Text(0, 0.5, 'Frequency')"
      ]
     },
     "execution_count": 4,
     "metadata": {},
     "output_type": "execute_result"
    },
    {
     "data": {
      "image/png": "[encoded data removed]",
      "text/plain": [
       "<Figure size 432x288 with 1 Axes>"
      ]
     },
     "metadata": {
      "needs_background": "light"
     },
     "output_type": "display_data"
    }
   ],
   "source": [
    "# Plotting a Histogram to visualise Average acceleration\n",
    "\n",
    "plt.hist(df_1[\"avg_acc\"])\n",
    "plt.xlabel('Average acceleration')\n",
    "plt.ylabel('Frequency')"
   ]
  },
  {
   "cell_type": "code",
   "execution_count": 5,
   "metadata": {},
   "outputs": [
    {
     "name": "stdout",
     "output_type": "stream",
     "text": [
      "(2803,)\n"
     ]
    },
    {
     "data": {
      "text/plain": [
       "array([   1,    2,    3, ..., 2801, 2802, 2803])"
      ]
     },
     "execution_count": 5,
     "metadata": {},
     "output_type": "execute_result"
    }
   ],
   "source": [
    "# Buliding a 1-D array to help visualise a Line plot\n",
    "\n",
    "arr = n.arange(1, 2804, 1)\n",
    "print(arr.shape)\n",
    "arr"
   ]
  },
  {
   "cell_type": "code",
   "execution_count": 6,
   "metadata": {},
   "outputs": [
    {
     "name": "stdout",
     "output_type": "stream",
     "text": [
      "(2803, 5)\n"
     ]
    },
    {
     "data": {
      "text/plain": [
       "array([[1.00000000e+00, 9.00000000e+00, 3.90000000e+01, 3.90000000e+01,\n",
       "        6.24844434e-01],\n",
       "       [2.00000000e+00, 9.00000000e+00, 3.90000000e+01, 4.90000000e+01,\n",
       "        5.97351112e-01],\n",
       "       [3.00000000e+00, 9.00000000e+00, 3.90000000e+01, 5.90000000e+01,\n",
       "        5.96334464e-01],\n",
       "       ...,\n",
       "       [2.80100000e+03, 1.70000000e+01, 2.60000000e+01, 1.90000000e+01,\n",
       "        4.96434674e+00],\n",
       "       [2.80200000e+03, 1.70000000e+01, 2.60000000e+01, 2.90000000e+01,\n",
       "        5.30359527e+00],\n",
       "       [2.80300000e+03, 1.70000000e+01, 2.60000000e+01, 3.90000000e+01,\n",
       "        5.60176161e+00]])"
      ]
     },
     "execution_count": 6,
     "metadata": {},
     "output_type": "execute_result"
    }
   ],
   "source": [
    "# Buliding a 1-D array to help visualise a Line plot\n",
    "# Converting 1-D array into 2-D array\n",
    "# Combining array arr and df_1\n",
    "\n",
    "df_2 = n.column_stack((arr, df_1))\n",
    "\n",
    "print(df_2.shape)\n",
    "df_2"
   ]
  },
  {
   "cell_type": "code",
   "execution_count": 7,
   "metadata": {},
   "outputs": [],
   "source": [
    "# Buliding a 1-D array to help visualise a Line plot\n",
    "# Save Numpy array to csv\n",
    "\n",
    "np.savetxt('avgacc.csv', df_2, delimiter=',')"
   ]
  },
  {
   "cell_type": "code",
   "execution_count": 8,
   "metadata": {},
   "outputs": [
    {
     "data": {
      "text/html": [
       "<div>\n",
       "<style scoped>\n",
       "    .dataframe tbody tr th:only-of-type {\n",
       "        vertical-align: middle;\n",
       "    }\n",
       "\n",
       "    .dataframe tbody tr th {\n",
       "        vertical-align: top;\n",
       "    }\n",
       "\n",
       "    .dataframe thead th {\n",
       "        text-align: right;\n",
       "    }\n",
       "</style>\n",
       "<table border=\"1\" class=\"dataframe\">\n",
       "  <thead>\n",
       "    <tr style=\"text-align: right;\">\n",
       "      <th></th>\n",
       "      <th>Number</th>\n",
       "      <th>Hour</th>\n",
       "      <th>Minute</th>\n",
       "      <th>Second</th>\n",
       "      <th>Average acceleration</th>\n",
       "    </tr>\n",
       "  </thead>\n",
       "  <tbody>\n",
       "    <tr>\n",
       "      <th>0</th>\n",
       "      <td>2.0</td>\n",
       "      <td>9.0</td>\n",
       "      <td>39.0</td>\n",
       "      <td>49.0</td>\n",
       "      <td>0.597351</td>\n",
       "    </tr>\n",
       "    <tr>\n",
       "      <th>1</th>\n",
       "      <td>3.0</td>\n",
       "      <td>9.0</td>\n",
       "      <td>39.0</td>\n",
       "      <td>59.0</td>\n",
       "      <td>0.596334</td>\n",
       "    </tr>\n",
       "    <tr>\n",
       "      <th>2</th>\n",
       "      <td>4.0</td>\n",
       "      <td>9.0</td>\n",
       "      <td>40.0</td>\n",
       "      <td>9.0</td>\n",
       "      <td>0.622017</td>\n",
       "    </tr>\n",
       "    <tr>\n",
       "      <th>3</th>\n",
       "      <td>5.0</td>\n",
       "      <td>9.0</td>\n",
       "      <td>40.0</td>\n",
       "      <td>19.0</td>\n",
       "      <td>0.621827</td>\n",
       "    </tr>\n",
       "    <tr>\n",
       "      <th>4</th>\n",
       "      <td>6.0</td>\n",
       "      <td>9.0</td>\n",
       "      <td>40.0</td>\n",
       "      <td>29.0</td>\n",
       "      <td>0.607781</td>\n",
       "    </tr>\n",
       "    <tr>\n",
       "      <th>...</th>\n",
       "      <td>...</td>\n",
       "      <td>...</td>\n",
       "      <td>...</td>\n",
       "      <td>...</td>\n",
       "      <td>...</td>\n",
       "    </tr>\n",
       "    <tr>\n",
       "      <th>2797</th>\n",
       "      <td>2799.0</td>\n",
       "      <td>17.0</td>\n",
       "      <td>25.0</td>\n",
       "      <td>59.0</td>\n",
       "      <td>5.609605</td>\n",
       "    </tr>\n",
       "    <tr>\n",
       "      <th>2798</th>\n",
       "      <td>2800.0</td>\n",
       "      <td>17.0</td>\n",
       "      <td>26.0</td>\n",
       "      <td>9.0</td>\n",
       "      <td>4.666145</td>\n",
       "    </tr>\n",
       "    <tr>\n",
       "      <th>2799</th>\n",
       "      <td>2801.0</td>\n",
       "      <td>17.0</td>\n",
       "      <td>26.0</td>\n",
       "      <td>19.0</td>\n",
       "      <td>4.964347</td>\n",
       "    </tr>\n",
       "    <tr>\n",
       "      <th>2800</th>\n",
       "      <td>2802.0</td>\n",
       "      <td>17.0</td>\n",
       "      <td>26.0</td>\n",
       "      <td>29.0</td>\n",
       "      <td>5.303595</td>\n",
       "    </tr>\n",
       "    <tr>\n",
       "      <th>2801</th>\n",
       "      <td>2803.0</td>\n",
       "      <td>17.0</td>\n",
       "      <td>26.0</td>\n",
       "      <td>39.0</td>\n",
       "      <td>5.601762</td>\n",
       "    </tr>\n",
       "  </tbody>\n",
       "</table>\n",
       "<p>2802 rows × 5 columns</p>\n",
       "</div>"
      ],
      "text/plain": [
       "      Number  Hour  Minute  Second  Average acceleration\n",
       "0        2.0   9.0    39.0    49.0              0.597351\n",
       "1        3.0   9.0    39.0    59.0              0.596334\n",
       "2        4.0   9.0    40.0     9.0              0.622017\n",
       "3        5.0   9.0    40.0    19.0              0.621827\n",
       "4        6.0   9.0    40.0    29.0              0.607781\n",
       "...      ...   ...     ...     ...                   ...\n",
       "2797  2799.0  17.0    25.0    59.0              5.609605\n",
       "2798  2800.0  17.0    26.0     9.0              4.666145\n",
       "2799  2801.0  17.0    26.0    19.0              4.964347\n",
       "2800  2802.0  17.0    26.0    29.0              5.303595\n",
       "2801  2803.0  17.0    26.0    39.0              5.601762\n",
       "\n",
       "[2802 rows x 5 columns]"
      ]
     },
     "execution_count": 8,
     "metadata": {},
     "output_type": "execute_result"
    }
   ],
   "source": [
    "#Adding column names to dataset\n",
    "\n",
    "dataset=pd.read_csv('C:/Users/ronit/Desktop/Plus10 Codes/avgacc.csv')\n",
    "\n",
    "dataset.columns = ['Number', 'Hour', 'Minute', 'Second', 'Average acceleration']\n",
    "dataset"
   ]
  },
  {
   "cell_type": "code",
   "execution_count": 9,
   "metadata": {},
   "outputs": [
    {
     "data": {
      "text/plain": [
       "Text(0, 0.5, 'Average acceleration')"
      ]
     },
     "execution_count": 9,
     "metadata": {},
     "output_type": "execute_result"
    },
    {
     "data": {
      "image/png": "[encoded data removed]",
      "text/plain": [
       "<Figure size 432x288 with 1 Axes>"
      ]
     },
     "metadata": {
      "needs_background": "light"
     },
     "output_type": "display_data"
    }
   ],
   "source": [
    "# Plotting a Line plot to visualise Average acceleration\n",
    "\n",
    "plt.plot(dataset.Number, dataset[\"Average acceleration\"])\n",
    "plt.xlabel('Time')\n",
    "plt.ylabel('Average acceleration')"
   ]
  },
  {
   "cell_type": "code",
   "execution_count": 10,
   "metadata": {},
   "outputs": [
    {
     "name": "stdout",
     "output_type": "stream",
     "text": [
      "[[  71.69313543]\n",
      " [  79.4684345 ]\n",
      " [  45.59995145]\n",
      " ...\n",
      " [2038.48800752]\n",
      " [2047.22572185]\n",
      " [2055.84723821]]\n"
     ]
    },
    {
     "name": "stderr",
     "output_type": "stream",
     "text": [
      "c:\\users\\ronit\\appdata\\local\\programs\\python\\python38\\lib\\site-packages\\pywt\\_multilevel.py:43: UserWarning: Level value of 5 is too high: all coefficients will experience boundary effects.\n",
      "  warnings.warn(\n"
     ]
    }
   ],
   "source": [
    "# Using Wavelet Transform to extract 6 features from Average Acceleration\n",
    "\n",
    "coeffs = pywt.wavedec(dataset, 'db1', mode='sym', level=5)\n",
    "cA5, cB5, cB4, cB3, cB2, cB1 = coeffs\n",
    "print(cA5)"
   ]
  },
  {
   "cell_type": "code",
   "execution_count": 11,
   "metadata": {},
   "outputs": [
    {
     "name": "stdout",
     "output_type": "stream",
     "text": [
      "[[-1.70070817]\n",
      " [-1.68716057]\n",
      " [-1.74617269]\n",
      " ...\n",
      " [ 1.72621628]\n",
      " [ 1.74144079]\n",
      " [ 1.75646284]]\n"
     ]
    }
   ],
   "source": [
    "# Normalization to bring all the features in the same scale\n",
    "\n",
    "from sklearn.preprocessing import StandardScaler\n",
    "sc = StandardScaler()\n",
    "cA5_N = sc.fit_transform(cA5)\n",
    "cB1_N = sc.fit_transform(cB1)\n",
    "cB2_N = sc.fit_transform(cB2)\n",
    "cB3_N = sc.fit_transform(cB3)\n",
    "cB4_N = sc.fit_transform(cB4)\n",
    "cB5_N = sc.fit_transform(cB5)\n",
    "print(cA5_N)"
   ]
  },
  {
   "cell_type": "code",
   "execution_count": 12,
   "metadata": {},
   "outputs": [
    {
     "name": "stdout",
     "output_type": "stream",
     "text": [
      "(2802, 9)\n"
     ]
    }
   ],
   "source": [
    "# Combining all the normalised features into 1 array to perform Principal Composition Analysis\n",
    "\n",
    "combined_features = n.column_stack((cA5_N, cB5_N, cB4_N, cB3_N, cB2_N, cB1_N))\n",
    "print(combined_features.shape)"
   ]
  },
  {
   "cell_type": "code",
   "execution_count": 13,
   "metadata": {},
   "outputs": [
    {
     "data": {
      "text/plain": [
       "array([[-1.70070817,  0.        ,  0.        , ..., -1.73126037,\n",
       "        -0.22104044,  0.        ],\n",
       "       [-1.68716057,  0.        ,  0.        , ..., -1.73002061,\n",
       "        -0.62982884,  0.        ],\n",
       "       [-1.74617269,  0.        ,  0.        , ..., -1.72878085,\n",
       "         1.45499201,  0.        ],\n",
       "       ...,\n",
       "       [ 1.72621628,  0.        ,  0.        , ...,  1.72890474,\n",
       "         0.47389984,  0.        ],\n",
       "       [ 1.74144079,  0.        ,  0.        , ...,  1.7301445 ,\n",
       "         0.06511144,  0.        ],\n",
       "       [ 1.75646284,  0.        ,  0.        , ...,  1.73138425,\n",
       "        -0.34367696,  0.        ]])"
      ]
     },
     "execution_count": 13,
     "metadata": {},
     "output_type": "execute_result"
    }
   ],
   "source": [
    "combined_features"
   ]
  },
  {
   "cell_type": "code",
   "execution_count": 14,
   "metadata": {},
   "outputs": [
    {
     "name": "stdout",
     "output_type": "stream",
     "text": [
      "(2802, 9)\n",
      "(2802, 1)\n"
     ]
    },
    {
     "data": {
      "text/plain": [
       "array([[ 3.44091771],\n",
       "       [ 3.4218415 ],\n",
       "       [ 3.50283719],\n",
       "       ...,\n",
       "       [-3.43318685],\n",
       "       [-3.45226077],\n",
       "       [-3.47133497]])"
      ]
     },
     "execution_count": 14,
     "metadata": {},
     "output_type": "execute_result"
    }
   ],
   "source": [
    "# Performing PCA on the combined array\n",
    "\n",
    "from sklearn.decomposition import PCA\n",
    "pca = PCA(n_components=1)\n",
    "pca.fit(combined_features)\n",
    "x_pca = pca.transform(combined_features)\n",
    "print(combined_features.shape)\n",
    "print(x_pca.shape)\n",
    "x_pca"
   ]
  },
  {
   "cell_type": "code",
   "execution_count": 15,
   "metadata": {},
   "outputs": [
    {
     "name": "stdout",
     "output_type": "stream",
     "text": [
      "(2803,)\n"
     ]
    }
   ],
   "source": [
    "# Buliding an array \"RUL\" to give as output to SVR Model\n",
    "\n",
    "rul = n.arange(1, 2803, 1)\n",
    "print(arr.shape)"
   ]
  },
  {
   "cell_type": "code",
   "execution_count": 16,
   "metadata": {
    "scrolled": true
   },
   "outputs": [
    {
     "data": {
      "text/plain": [
       "Text(0, 0.5, 'RUL')"
      ]
     },
     "execution_count": 16,
     "metadata": {},
     "output_type": "execute_result"
    },
    {
     "data": {
      "image/png": "[encoded data removed]",
      "text/plain": [
       "<Figure size 432x288 with 1 Axes>"
      ]
     },
     "metadata": {
      "needs_background": "light"
     },
     "output_type": "display_data"
    }
   ],
   "source": [
    "# Performing SVR\n",
    "# regressor.fit(x,y) ## x- Input to Regressor Model (PCA), y- Output (Time to Failure)\n",
    "\n",
    "from sklearn.svm import SVR\n",
    "regressor = SVR(kernel = 'rbf')\n",
    "regressor.fit(x_pca, rul)\n",
    "x_pca_grid = np.arange(min(x_pca), max(x_pca), 0.01) \n",
    "x_pca_grid = x_pca_grid.reshape((len(x_pca_grid), 1))\n",
    "plt.scatter(x_pca, rul, color = 'red')\n",
    "plt.plot(x_pca_grid, regressor.predict(x_pca_grid), color = 'blue')\n",
    "plt.xlabel('Time')\n",
    "plt.ylabel('RUL')"
   ]
  }
 ],
 "metadata": {
  "kernelspec": {
   "display_name": "Python 3",
   "language": "python",
   "name": "python3"
  },
  "language_info": {
   "codemirror_mode": {
    "name": "ipython",
    "version": 3
   },
   "file_extension": ".py",
   "mimetype": "text/x-python",
   "name": "python",
   "nbconvert_exporter": "python",
   "pygments_lexer": "ipython3",
   "version": "3.8.3"
  }
 },
 "nbformat": 4,
 "nbformat_minor": 4
}
